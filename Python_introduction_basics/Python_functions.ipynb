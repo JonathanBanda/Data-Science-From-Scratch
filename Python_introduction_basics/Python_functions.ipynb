{
 "cells": [
  {
   "cell_type": "markdown",
   "metadata": {},
   "source": [
    "# How to use function"
   ]
  },
  {
   "cell_type": "markdown",
   "metadata": {},
   "source": [
    "## Functions take input and produce an out put"
   ]
  },
  {
   "cell_type": "markdown",
   "metadata": {},
   "source": [
    "## We dont always need to know what the function does inside its scope \n",
    "## but what it produces and takes to produce an out put"
   ]
  },
  {
   "cell_type": "code",
   "execution_count": null,
   "metadata": {},
   "outputs": [],
   "source": []
  },
  {
   "cell_type": "markdown",
   "metadata": {},
   "source": [
    "# Basic functions"
   ]
  },
  {
   "cell_type": "code",
   "execution_count": null,
   "metadata": {},
   "outputs": [],
   "source": [
    "\"\"\"\n",
    "\n",
    "    1) len() -> produces a length\n",
    "    2) sum() -> produces the sum of some set\n",
    "    3) print() -> prints to console\n",
    "    4) sorted() -> sorts a set\n",
    "\n",
    "\"\"\"\n"
   ]
  },
  {
   "cell_type": "code",
   "execution_count": 16,
   "metadata": {},
   "outputs": [
    {
     "name": "stdout",
     "output_type": "stream",
     "text": [
      "5\n"
     ]
    }
   ],
   "source": [
    "# len example\n",
    "\n",
    "# list = [1,2,3,4,5, 4, 4, 4]\n",
    "#tup = (1, 2)\n",
    "string = \"Hello\"\n",
    "\n",
    "length = len(string)\n",
    "\n",
    "print(length)\n"
   ]
  },
  {
   "cell_type": "code",
   "execution_count": 17,
   "metadata": {},
   "outputs": [
    {
     "name": "stdout",
     "output_type": "stream",
     "text": [
      "27\n"
     ]
    }
   ],
   "source": [
    "# sum example\n",
    "\n",
    "list = [1,2,3,4,5, 4, 4, 4]\n",
    "\n",
    "total = sum(list)\n",
    "\n",
    "print(total)"
   ]
  },
  {
   "cell_type": "code",
   "execution_count": 18,
   "metadata": {},
   "outputs": [
    {
     "name": "stdout",
     "output_type": "stream",
     "text": [
      "Hello world\n"
     ]
    }
   ],
   "source": [
    "# print example\n",
    "\n",
    "print(\"Hello world\")\n",
    "\n"
   ]
  },
  {
   "cell_type": "code",
   "execution_count": 21,
   "metadata": {},
   "outputs": [
    {
     "name": "stdout",
     "output_type": "stream",
     "text": [
      "[0, 1, 2, 3, 4, 5, 6, 7, 8, 9]\n"
     ]
    }
   ],
   "source": [
    "# sorted example\n",
    "\n",
    "unsorted = [9,8,7,6,5,4,3,2,1,0]\n",
    "\n",
    "sortedList = sorted(unsorted)\n",
    "\n",
    "print(sortedList)\n",
    "\n"
   ]
  },
  {
   "cell_type": "code",
   "execution_count": null,
   "metadata": {},
   "outputs": [],
   "source": []
  },
  {
   "cell_type": "code",
   "execution_count": null,
   "metadata": {},
   "outputs": [],
   "source": []
  },
  {
   "cell_type": "markdown",
   "metadata": {},
   "source": [
    "# How to make our own functions"
   ]
  },
  {
   "cell_type": "code",
   "execution_count": 26,
   "metadata": {},
   "outputs": [
    {
     "name": "stdout",
     "output_type": "stream",
     "text": [
      "Mr John Smith\n",
      "132, My Street,\n",
      "Kingston, New York 12401\n",
      "United States\n"
     ]
    }
   ],
   "source": [
    "\"\"\"\n",
    "\n",
    "    def -> keyword\n",
    "    nameOfFunction -> function name\n",
    "    (x, y, z): -> formal parameters\n",
    "    \n",
    "\"\"\"\n",
    "\n",
    "# Mr John Smith\n",
    "# 132, My Street,\n",
    "# Kingston, New York 12401\n",
    "# United States --> assume\n",
    "\n",
    "def mailingAddress(name, address, state, zipcode):\n",
    "    print(name)\n",
    "    print(address)\n",
    "    print(\"Kingston, \" + state + \" \" + zipcode)\n",
    "    print(\"United States\")\n",
    "    \n",
    "    \n",
    "Name = \"Mr John Smith\"\n",
    "Address = \"132, My Street,\"\n",
    "State = \"New York\"\n",
    "Zipcode = \"12401\"\n",
    "\n",
    "    \n",
    "mailingAddress(Name, Address, State, Zipcode)\n",
    "\n"
   ]
  },
  {
   "cell_type": "code",
   "execution_count": null,
   "metadata": {},
   "outputs": [],
   "source": []
  },
  {
   "cell_type": "code",
   "execution_count": null,
   "metadata": {},
   "outputs": [],
   "source": []
  }
 ],
 "metadata": {
  "kernelspec": {
   "display_name": "Python 3",
   "language": "python",
   "name": "python3"
  },
  "language_info": {
   "codemirror_mode": {
    "name": "ipython",
    "version": 3
   },
   "file_extension": ".py",
   "mimetype": "text/x-python",
   "name": "python",
   "nbconvert_exporter": "python",
   "pygments_lexer": "ipython3",
   "version": "3.8.5"
  }
 },
 "nbformat": 4,
 "nbformat_minor": 4
}
